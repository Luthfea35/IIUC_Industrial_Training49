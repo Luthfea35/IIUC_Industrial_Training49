{
 "cells": [
  {
   "cell_type": "code",
   "execution_count": 1,
   "metadata": {},
   "outputs": [
    {
     "name": "stdout",
     "output_type": "stream",
     "text": [
      "An error occurred: Cannot use HTMLSession within an existing event loop. Use AsyncHTMLSession instead.\n"
     ]
    }
   ],
   "source": [
    "from requests_html import HTMLSession\n",
    "\n",
    "url = \"https://www.prothomalo.com/world/asia/hxvtbgxwev\"\n",
    "\n",
    "session = HTMLSession()\n",
    "try:\n",
    "        response = session.get(url)\n",
    "        response.html.render()  # This will download Chromium if not found\n",
    "        print(\"Rendered web page:\", response.html.html)\n",
    "except Exception as e:\n",
    "        print(f\"An error occurred: {e}\")\n",
    "finally:\n",
    "        session.close()\n",
    "\n",
    "# response = session.get(url)\n",
    "# response.html.render()\n",
    "# title = response.html.find('h1', first=True).text\n",
    "# links = response.html.find('a')\n",
    "# for link in links:\n",
    "    # print(link)\n",
    "    # print(link.text, link.attrs['href'])\n",
    "\n",
    "\n",
    "\n"
   ]
  },
  {
   "cell_type": "code",
   "execution_count": 2,
   "metadata": {},
   "outputs": [
    {
     "name": "stdout",
     "output_type": "stream",
     "text": [
      "নৌশক্তি বাড়ানোর দিকে হঠাৎ জোর কেন চীনের\n"
     ]
    }
   ],
   "source": [
    "title = response.html.find('h1', first=True).text\n",
    "print(title)\n",
    "# links = response.html.find('a')\n",
    "# for link in links:\n",
    "#     print(link.text,link.attrs['href'])"
   ]
  },
  {
   "cell_type": "code",
   "execution_count": 3,
   "metadata": {},
   "outputs": [],
   "source": [
    "import datetime\n",
    "\n",
    "def convert_bengali_to_mysql_datetime(bengali_time_str):\n",
    "    # Mapping of Bengali numerals to English numerals\n",
    "    bengali_to_english = str.maketrans('০১২৩৪৫৬৭৮৯', '0123456789')\n",
    "\n",
    "    # Mapping of Bengali month names to English month names\n",
    "    bengali_months = {\n",
    "        'জানুয়ারি': 'January',\n",
    "        'ফেব্রুয়ারি': 'February',\n",
    "        'মার্চ': 'March',\n",
    "        'এপ্রিল': 'April',\n",
    "        'মে': 'May',\n",
    "        'জুন': 'June',\n",
    "        'জুলাই': 'July',\n",
    "        'আগস্ট': 'August',\n",
    "        'সেপ্টেম্বর': 'September',\n",
    "        'অক্টোবর': 'October',\n",
    "        'নভেম্বর': 'November',\n",
    "        'ডিসেম্বর': 'December'\n",
    "    }\n",
    "\n",
    "    # Remove the prefix if it exists\n",
    "    if bengali_time_str.startswith(\"প্রকাশ: \"):\n",
    "        time_part = bengali_time_str.replace(\"প্রকাশ: \", \"\")\n",
    "    elif bengali_time_str.startswith(\"আপডেট: \"):\n",
    "        time_part = bengali_time_str.replace(\"আপডেট: \", \"\")\n",
    "    else:\n",
    "        raise ValueError(\"Invalid time string format\")\n",
    "\n",
    "    # Replace Bengali numerals with English numerals\n",
    "    time_part = time_part.translate(bengali_to_english)\n",
    "\n",
    "    # Replace Bengali month name with English month name\n",
    "    for bn_month, en_month in bengali_months.items():\n",
    "        time_part = time_part.replace(bn_month, en_month)\n",
    "\n",
    "    # Parse the string into a datetime object\n",
    "    #datetime_object = datetime.datetime.strptime(time_part.strip(), '%d %B %Y, %H:%M')\n",
    "\n",
    "    # Convert the datetime object to a MySQL-compatible format\n",
    "    #mysql_datetime_str = datetime_object.strftime('%Y-%m-%d %H:%M')\n",
    "\n",
    "    return time_part\n",
    "\n",
    "\n"
   ]
  },
  {
   "cell_type": "code",
   "execution_count": 4,
   "metadata": {},
   "outputs": [
    {
     "name": "stdout",
     "output_type": "stream",
     "text": [
      "title =  নৌশক্তি বাড়ানোর দিকে হঠাৎ জোর কেন চীনের\n",
      "category =  এশিয়া\n",
      "time =  16 March 2024, 10: 24\n",
      "reporter =  ডয়চে ভেলে\n",
      "body =  তাইওয়ান প্রণালিতে সামরিক সংঘাতের আশঙ্কা বাড়ছে। প্রয়োজনে শক্তি প্রয়োগ করে হলেও স্বশাসিত তাইওয়ানকে চীনের অন্তর্ভুক্ত করতে চায় বেইজিং। তাইওয়ানকে তারা চীনের প্রদেশ হিসেবে দেখে থাকে।\n",
      "চীনের পার্লামেন্ট ন্যাশনাল পিপলস কংগ্রেসে (এনপিসি) সরকারের কাজের প্রতিবেদন উপস্থাপন করেছেন প্রধানমন্ত্রী লি কিয়াং। ‘চীনের পুনরেকত্রীকরণ ইস্যুকে দৃঢ়ভাবে এগিয়ে নেওয়ার’ বিষয়ে বেইজিংয়ের দৃঢ় সংকল্প পুনর্ব্যক্ত করেন তিনি।\n",
      "এটি সরকারের ‘সামগ্রিক কৌশলের’ অংশ বলেও জোর দিয়েছেন চীনের প্রধানমন্ত্রী।\n",
      "এ বক্তব্য অবশ্য নতুন কিছু নয়। তবে অতীতে ‘চীনের পুনরেকত্রীকরণ’ বললে তার আগে ‘শান্তিপূর্ণ’ শব্দটিও ব্যবহার করা হতো। এই ঘোষণায় এ শব্দটি অনুপস্থিত ছিল।\n",
      "বেইজিং মনে করে, যুক্তরাষ্ট্র থেকে তাইওয়ানকে দেওয়া নিরাপত্তা গ্যারান্টিই এই অঞ্চলে নিরাপত্তা হুমকির বড় উৎস। মার্কিন সংবাদমাধ্যমের খবরে বলা হয়েছে, বর্তমানে পাঁচটি মার্কিন বিমানবাহী রণতরী প্রশান্ত মহাসাগরীয় অঞ্চলে মোতায়েন রয়েছে।\n",
      "চীনের রাজনীতিবিদেরা প্রায়ই তাঁদের বক্তব্যে ‘দুই উপকূলে শান্তি এবং নিরাপত্তা’ কথাটি উল্লেখ করছে। অনেক বিশেষজ্ঞ মনে করেন, এই শব্দবন্ধের মাধ্যমে এখন শুধু তাইওয়ান প্রণালি নয়, বরং পুরো প্রশান্ত মহাসাগরকে বোঝাতে চাচ্ছে চীন।\n",
      "প্রতিদ্বন্দ্বিতাপূর্ণ এই জলসীমার নিয়ন্ত্রণ নিতে বেইজিং ইতিমধ্যে তাদের অপেক্ষাকৃত দুর্বল নৌবাহিনীকে শক্তিশালী করে তোলার উদ্যোগ নিয়েছে।\n",
      "দক্ষিণ চীন সাগরের দক্ষিণতম বিন্দুটি চীনের মূল ভূখণ্ড থেকে প্রায় দুই হাজার কিলোমিটার দূরে অবস্থিত।\n",
      "দুটি বিমানবাহী জাহাজ, আরও দুটি নির্মাণাধীন\n",
      "বর্তমানে চীনা নৌবাহিনীতে দুটি বিমানবাহী রণতরী রয়েছে, যাদের নাম লিয়াওনিং ও শানডং।\n",
      "ম্যাকাওয়ের এক ব্যবসায়ীর মধ্যস্থতায় চীন ইউক্রেন থেকে ১৯৯৮ সালে প্রায় দুই কোটি ডলার দাম দিয়ে সোভিয়েত আমলে নির্মিত লিয়াওনিং কিনেছিল। সেই জাহাজে প্রথমে ভাসমান হোটেল ও ক্যাসিনো নির্মাণের দাবি করেছিলেন ওই ব্যবসায়ী।\n",
      "অবশ্য ২০১২ সালে লিয়াওনিংকে সংস্কার করে একটি কার্যকর বিমানবাহী রণতরীতে রূপান্তরিত করার পর চীনা নৌবাহিনীর কাছে হস্তান্তর করা হয়।\n",
      "ঠিক লিয়াওনিংয়ের মতো করেই শানডং তৈরি করা হয়েছে চীনেই। ২০১৯ সালে এটি কাজ শুরু করেছে এবং তখন থেকে এটি মূলত দক্ষিণ চীন সাগরে টহল দিচ্ছে।\n",
      "এই দুটি জাহাজের কোনোটিই পারমাণবিক শক্তিসম্পন্ন নয়। দুটি জাহাজই জ্বালানি তেলের মাধ্যমে চলে। এই দুই জাহাজে জেট বিমান ওড়ার জন্য স্কি-জাম্প স্টাইলের প্ল্যাটফর্ম ব্যবহার করা হয় এবং তাদের ক্যাটাপল্ট সিস্টেম অর্থাৎ জাহাজ ছুড়ে দেওয়ার ব্যবস্থা নেই।\n",
      "তৃতীয় জাহাজ ফুজিয়ান ২০২২ সালে চালু হয়েছিল। এখন এটি সাংহাইয়ের একটি শিপইয়ার্ডে নোঙর করা রয়েছে। জাহাজটির সাজসরঞ্জাম ও মুরিং ট্রায়াল চলছে।\n",
      "অন্য দুই যুদ্ধজাহাজের মতো ফুজিয়ানও জ্বালানি তেলের মাধ্যমেই পরিচালিত হবে। এটি ২০২৫ সালে কাজ শুরু করতে পারবে বলে আশা করা হচ্ছে।\n",
      "চীন চতুর্থ বিমানবাহী রণতরী বানাচ্ছে বলে জল্পনা চলছিল। চীনা নৌবাহিনীর একজন অ্যাডমিরাল এবং প্রভাবশালী রাজনৈতিক নেতা ইউয়ান হুয়াঝি এই বছরের এনপিসি সমাবেশে নতুন জাহাজ নির্মাণের বিষয়টি নিশ্চিত করেন।\n",
      "ইউয়ান হুয়াঝি বলেন, ‘চতুর্থ এয়ারক্রাফট ক্যারিয়ারের কোনো প্রযুক্তিগত অসুবিধা সম্পর্কে আমি অবগত নই।’\n",
      "চীনের এই নতুন বিমানবাহী জাহাজ পারমাণবিক শক্তিচালিত হবে কি না—জানতে চাইলে ইউয়ান সরাসরি জবাব না দিয়ে বলেছিলেন, এ বিষয়ে ‘শিগগিরই ঘোষণা আসবে’।\n",
      "পরমাণু শক্তিচালিত বিমানবাহী রণতরী কি আসছে\n",
      "এনপিসি অধিবেশন শুরুর আগে হংকং ও তাইওয়ানের সংবাদমাধ্যম জানিয়েছে, আরও দুটি পারমাণবিক শক্তিচালিত বিমানবাহী রণতরী নির্মাণের কাজ চলছে চীনে। বিভিন্ন গণমাধ্যমের খবরে বলা হয়, এসব জাহাজ দুটি থোরিয়ামগলিত লবণের চুল্লির মাধ্যমে পরিচালিত হবে।\n",
      "তাইওয়ানের রাজধানী তাইপেতে চীনা ভাষায় প্রকাশিত সংবাদপত্র চায়না টাইমসের সম্পাদক ওয়াং ফেং বলেন, ‘একটি আধুনিক নৌবাহিনীর সহায়তায় চীন তার জলসীমা রক্ষার দৃঢ় উচ্চাকাঙ্ক্ষা স্পষ্টভাবে তুলে ধরতে চায়।’\n",
      "ওয়াং ফেং মনে করেন, প্রতিবেশী দেশগুলোর সঙ্গে একাধিক সংঘাতের কার্যকর প্রতিরোধের কৌশল গড়ে তুলতে চায় চীন।\n",
      "চীনা অ্যাডমিরাল ইউয়ান অবশ্য সরকারি বক্তব্যেই আপাতত অটল। তিনি বলেন, ‘আমরা যুক্তরাষ্ট্রের সঙ্গে নিজেদের তুলনা করার জন্য বিমানবাহী রণতরী তৈরি করছি না। অবশ্যই যুক্তরাষ্ট্রের সঙ্গে যুদ্ধ করার জন্যও নয়। আমরা আমাদের সার্বভৌমত্ব ও আঞ্চলিক অখণ্ডতা রক্ষায় এগুলো ব্যবহার করতে চাই।’\n"
     ]
    }
   ],
   "source": [
    "title = response.html.find('h1', first=True).text\n",
    "category_element = response.html.find('div.print-entity-section-wrapper')\n",
    "category = category_element[0].find('a', first=True).text\n",
    "\n",
    "time = response.html.find('time', first=True).text\n",
    "reporter = response.html.find('.author-read-time-wrapper', first=True).text\n",
    "news_body_element = response.html.find('p')\n",
    "body = \"\\n\".join([p.text for p in news_body_element])\n",
    "# for news_e in news_body_element:\n",
    "#     print(news_e.text)\n",
    "print(\"title = \", title)\n",
    "print(\"category = \", category)\n",
    "print(\"time = \",  convert_bengali_to_mysql_datetime(time))\n",
    "print(\"reporter = \",reporter)\n",
    "print(\"body = \",body)"
   ]
  }
 ],
 "metadata": {
  "kernelspec": {
   "display_name": "base",
   "language": "python",
   "name": "python3"
  },
  "language_info": {
   "codemirror_mode": {
    "name": "ipython",
    "version": 3
   },
   "file_extension": ".py",
   "mimetype": "text/x-python",
   "name": "python",
   "nbconvert_exporter": "python",
   "pygments_lexer": "ipython3",
   "version": "3.11.4"
  }
 },
 "nbformat": 4,
 "nbformat_minor": 2
}
